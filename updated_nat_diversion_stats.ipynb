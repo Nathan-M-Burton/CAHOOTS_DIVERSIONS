{
 "cells": [
  {
   "cell_type": "markdown",
   "metadata": {},
   "source": [
    "# Updated Diversion Metrics Based on Natural Experiment "
   ]
  },
  {
   "cell_type": "code",
   "execution_count": 214,
   "metadata": {},
   "outputs": [],
   "source": [
    "import pandas as pd \n",
    "file_path = r'D:\\dsci\\CAHOOTS\\Data\\call_data_from_CAD.csv'\n",
    "CAD_data = pd.read_csv(file_path)"
   ]
  },
  {
   "cell_type": "code",
   "execution_count": 215,
   "metadata": {},
   "outputs": [],
   "source": [
    "CAD_data[\"Call_Created_Time\"] = pd.to_datetime(CAD_data['Call_Created_Time'], errors='coerce')\n",
    "CAD_data[\"year\"] = CAD_data[\"Call_Created_Time\"].dt.year\n",
    "cahoots_identifiers = r\"1J77\\s*|3J79\\s*|3J78\\s*|3J77\\s*|4J79\\s*|3J81\\s*|3J76\\s*|2J28\\s*|2J29\\s*|CAHOOT\\s*|CAHOT\\s*|CAHO\\s*\"\n",
    "\n",
    "CAD_data[\"PrimaryUnitCallSign\"] = CAD_data[\"PrimaryUnitCallSign\"].replace(cahoots_identifiers, 'CAHOOT', regex=True)\n",
    "CAD_data[\"RespondingUnitCallSign\"] = CAD_data[\"RespondingUnitCallSign\"].replace(cahoots_identifiers, 'CAHOOT', regex=True)\n",
    "# Standardize Cahoots identifiers \n",
    "cahoots_identifiers = r\"1J77\\s*|3J79\\s*|3J78\\s*|3J77\\s*|4J79\\s*|3J81\\s*|3J76\\s*|2J28\\s*|2J29\\s*|CAHOOT\\s*|CAHOT\\s*|CAHO\\s*\"\n",
    "\n",
    "CAD_data[\"PrimaryUnitCallSign\"] = CAD_data[\"PrimaryUnitCallSign\"].replace(cahoots_identifiers, 'CAHOOT', regex=True)\n",
    "CAD_data[\"RespondingUnitCallSign\"] = CAD_data[\"RespondingUnitCallSign\"].replace(cahoots_identifiers, 'CAHOOT', regex=True)\n",
    "\n",
    "# Create an identifier for Cahoots involvement \n",
    "CAD_data['Cahoots_related'] = ((CAD_data['PrimaryUnitCallSign'] == 'CAHOOT') | (CAD_data['RespondingUnitCallSign'] == 'CAHOOT')).astype(int)\n",
    "\n",
    "# Rename public Assist for clarity\n",
    "CAD_data['InitialIncidentTypeDescription'] = CAD_data['InitialIncidentTypeDescription'].replace(\"ASSIST PUBLIC- POLICE\", \"ASSIST PUBLIC\")\n"
   ]
  },
  {
   "cell_type": "code",
   "execution_count": 216,
   "metadata": {},
   "outputs": [],
   "source": [
    "data_cleaned = CAD_data.drop(columns=['Unnamed: 0'])\n",
    "data_cleaned = data_cleaned.sort_values(by=\"Call_Created_Time\")"
   ]
  },
  {
   "cell_type": "code",
   "execution_count": 217,
   "metadata": {},
   "outputs": [],
   "source": [
    "data_filtered = data_cleaned[data_cleaned['Call_Source'] != 'SELF']\n",
    "data_unique_incidents = data_filtered.drop_duplicates(subset='IncidentNumber', keep='first')"
   ]
  },
  {
   "cell_type": "code",
   "execution_count": 218,
   "metadata": {},
   "outputs": [],
   "source": [
    "# Marked for future import factoring \n",
    "\n",
    "def filter_df_by_time(df, start_time=None, end_time=None, time_column='Call_Created_Time'):\n",
    "    \"\"\"\n",
    "    Filters the dataframe based on the time range specified by the user\n",
    "\n",
    "    Parameters:\n",
    "    df to filter\n",
    "    start_time (str)\n",
    "    end_time (str)\n",
    "    time_column (str): The name of the column containing datetime values\n",
    "\n",
    "    \"\"\"\n",
    "    df.loc[:, time_column] = pd.to_datetime(df[time_column])\n",
    "\n",
    "    if start_time:\n",
    "        if len(start_time) == 4:  # if only a year is given\n",
    "            start_time = pd.to_datetime(f\"{start_time}-01-01\")\n",
    "    else:\n",
    "        start_time = df[time_column].min() \n",
    "\n",
    "    if end_time:\n",
    "        if len(end_time) == 4:  \n",
    "            end_time = pd.to_datetime(f\"{end_time}-12-31 23:59:59\")\n",
    "    else:\n",
    "        end_time = df[time_column].max()  \n",
    "\n",
    "    filtered_df = df[(df[time_column] >= start_time) & (df[time_column] <= end_time)]\n",
    "\n",
    "    return filtered_df\n",
    "\n",
    "def dataset_builder(data, dispatched=False, arrived=False, solo_cahoots=False, time=None):\n",
    "    \"\"\"\n",
    "    Parameters:\n",
    "    time (list of strings) [start time, end time, time_col]\n",
    "    \n",
    "    \"\"\"\n",
    "    # Apply time range if specified\n",
    "    if time:\n",
    "        data = filter_df_by_time(data, time[0], time[1], time[2])\n",
    "    \n",
    "    # Dispatched filter is based on \"Unit_Dispatched_Time\"\n",
    "    if dispatched:\n",
    "        data = data[data[\"Unit_Dispatched_Time\"].notna()]\n",
    "    \n",
    "    # Arrived filter is based on \"Call_First_Dispatched_Time\"\n",
    "    if arrived:\n",
    "        data = data[data[\"Unit_OnScene_Time\"].notna()]\n",
    "        data = data[data[\"Unit_Dispatched_Time\"].notna()]\n",
    "        \n",
    "    # Only Include CAHOOTS calls where no other agencies are involved\n",
    "    if solo_cahoots:\n",
    "        data = data[~((data['PrimaryUnitCallSign'] == 'CAHOOTS') & (data['IsPrimary'] == 0))]\n",
    "        \n",
    "    return data"
   ]
  },
  {
   "cell_type": "code",
   "execution_count": 219,
   "metadata": {},
   "outputs": [],
   "source": [
    "def calculate_diversions(data, by_year=True, incident_adjust={}):\n",
    "    # Split the data into Cahoots-related and police-handled subsets\n",
    "    cahoots_related = data[data[\"Cahoots_related\"] == 1]\n",
    "    police_handled = data[data[\"Cahoots_related\"] == 0]\n",
    "    \n",
    "    if len(incident_adjust) > 0:\n",
    "        # Initialize yearly_adjustment as a Series with index as years and default values as 0\n",
    "        yearly_adjustment = pd.Series(0, index=cahoots_related[\"year\"].unique())\n",
    "        # Group the data once outside the loop\n",
    "        incident_df = cahoots_related.groupby([\"year\", \"InitialIncidentTypeDescription\"]).size().reset_index(name='count')\n",
    "        \n",
    "        for key, value in incident_adjust.items():\n",
    "            # Filter incident_df for the specific incident type\n",
    "            by_yr_inc_df = incident_df[incident_df[\"InitialIncidentTypeDescription\"] == key]\n",
    "            # Calculate adjustments for each year\n",
    "            adjustment = by_yr_inc_df.groupby(\"year\")[\"count\"].sum() * value\n",
    "            # Add adjustments to yearly_adjustment\n",
    "            yearly_adjustment = yearly_adjustment.add(adjustment, fill_value=0)\n",
    "    else:\n",
    "        # If no adjustments, initialize yearly_adjustment with zeros\n",
    "        yearly_adjustment = pd.Series(0, index=cahoots_related[\"year\"].unique())\n",
    "    \n",
    "    if by_year:\n",
    "        # Calculate diversions by year\n",
    "        cahoots_year = cahoots_related.groupby(\"year\").size()\n",
    "        cahoots_year = cahoots_year - yearly_adjustment\n",
    "        epd_year = police_handled.groupby(\"year\").size()\n",
    "        total_year = cahoots_year + epd_year\n",
    "        diversions_by_year = (cahoots_year / total_year) * 100\n",
    "        return diversions_by_year.reset_index(name='Diversion Rate')\n",
    "    else:\n",
    "        # Calculate overall diversion rate\n",
    "        total_adjustment = yearly_adjustment.sum()\n",
    "        cahoots_related_count = len(cahoots_related) - total_adjustment\n",
    "        total_count = len(police_handled) + cahoots_related_count\n",
    "        diversion_rate = (cahoots_related_count / total_count) * 100\n",
    "        return diversion_rate"
   ]
  },
  {
   "cell_type": "code",
   "execution_count": 235,
   "metadata": {},
   "outputs": [
    {
     "data": {
      "text/html": [
       "<div>\n",
       "<style scoped>\n",
       "    .dataframe tbody tr th:only-of-type {\n",
       "        vertical-align: middle;\n",
       "    }\n",
       "\n",
       "    .dataframe tbody tr th {\n",
       "        vertical-align: top;\n",
       "    }\n",
       "\n",
       "    .dataframe thead th {\n",
       "        text-align: right;\n",
       "    }\n",
       "</style>\n",
       "<table border=\"1\" class=\"dataframe\">\n",
       "  <thead>\n",
       "    <tr style=\"text-align: right;\">\n",
       "      <th></th>\n",
       "      <th>year</th>\n",
       "      <th>Diversion Rate</th>\n",
       "    </tr>\n",
       "  </thead>\n",
       "  <tbody>\n",
       "    <tr>\n",
       "      <th>0</th>\n",
       "      <td>2016</td>\n",
       "      <td>9.556961</td>\n",
       "    </tr>\n",
       "    <tr>\n",
       "      <th>1</th>\n",
       "      <td>2017</td>\n",
       "      <td>12.918096</td>\n",
       "    </tr>\n",
       "    <tr>\n",
       "      <th>2</th>\n",
       "      <td>2018</td>\n",
       "      <td>14.147789</td>\n",
       "    </tr>\n",
       "    <tr>\n",
       "      <th>3</th>\n",
       "      <td>2019</td>\n",
       "      <td>14.157591</td>\n",
       "    </tr>\n",
       "    <tr>\n",
       "      <th>4</th>\n",
       "      <td>2020</td>\n",
       "      <td>14.862008</td>\n",
       "    </tr>\n",
       "    <tr>\n",
       "      <th>5</th>\n",
       "      <td>2021</td>\n",
       "      <td>14.854264</td>\n",
       "    </tr>\n",
       "  </tbody>\n",
       "</table>\n",
       "</div>"
      ],
      "text/plain": [
       "   year  Diversion Rate\n",
       "0  2016        9.556961\n",
       "1  2017       12.918096\n",
       "2  2018       14.147789\n",
       "3  2019       14.157591\n",
       "4  2020       14.862008\n",
       "5  2021       14.854264"
      ]
     },
     "execution_count": 235,
     "metadata": {},
     "output_type": "execute_result"
    }
   ],
   "source": [
    "incidents = {\n",
    "    \"CHECK WELFARE\": 0.091,\n",
    "    \"DISPUTE\": 0.085,\n",
    "    \"TRAFFIC HAZARD\": 0.508,\n",
    "    \"SUBJECT SCREAMING\": 0.536,\n",
    "    \"FOUND SYRINGE\": 0.87,\n",
    "    \"ASSIST PUBLIC\": 0.921,\n",
    "    \"TRANSPORT\":  0.963\n",
    "}\n",
    "\n",
    "calculate_diversions(dataset_builder(data_unique_incidents, dispatched=True, arrived=False, time=['2016', '2021', 'Call_Created_Time']), by_year=True, incident_adjust=incidents)"
   ]
  },
  {
   "cell_type": "markdown",
   "metadata": {},
   "source": [
    "### Using dispatched EPD tables"
   ]
  },
  {
   "cell_type": "code",
   "execution_count": 226,
   "metadata": {},
   "outputs": [
    {
     "data": {
      "text/plain": [
       "InitialIncidentTypeDescription\n",
       "CHECK WELFARE             5840\n",
       "ASSIST PUBLIC             5773\n",
       "TRANSPORT                 1807\n",
       "SUICIDAL SUBJECT          1394\n",
       "TRAFFIC HAZARD             346\n",
       "DISORDERLY SUBJECT         295\n",
       "INTOXICATED SUBJECT        212\n",
       "FOUND SYRINGE              192\n",
       "ASSIST FIRE DEPARTMENT     182\n",
       "CRIMINAL TRESPASS          135\n",
       "DISORIENTED SUBJECT        135\n",
       "DISPUTE                    109\n",
       "SUSPICIOUS CONDITIONS       69\n",
       "NUDE SUBJECT                54\n",
       "DISORDERLY JUVENILES        50\n",
       "UNKNOWN PROBLEM             44\n",
       "OVERDOSE                    40\n",
       "DEATH MESSAGE               19\n",
       "SUSPICIOUS SUBJECT          17\n",
       "ATTEMPT TO LOCATE           16\n",
       "INDECENT EXPOSURE           15\n",
       "CARDIAC ARREST              14\n",
       "SUBJECT SCREAMING           12\n",
       "MISSING PERSON              12\n",
       "BEAT INFORMATION            11\n",
       "ASSIST OUTSIDE AGENCY        9\n",
       "ASSAULT                      9\n",
       "INJURED SUBJECT              9\n",
       "HARASSMENT                   9\n",
       "BURGLARY                     7\n",
       "Name: count, dtype: int64"
      ]
     },
     "execution_count": 226,
     "metadata": {},
     "output_type": "execute_result"
    }
   ],
   "source": [
    "dispatched_2021 = dataset_builder(data_unique_incidents, dispatched=True, arrived=False, time=['2021', '2021', 'Call_Created_Time'])\n",
    "\n",
    "dispatched_cahoots_2021 = dispatched_2021[dispatched_2021[\"Cahoots_related\"] == 1]\n",
    "dispatched_cahoots_2021[\"InitialIncidentTypeDescription\"].value_counts().head(30)"
   ]
  },
  {
   "cell_type": "code",
   "execution_count": 3,
   "metadata": {},
   "outputs": [],
   "source": [
    "incidents = {\n",
    "    \"CHECK WELFARE\": 0.091,\n",
    "    \"DISPUTE\": 0.085,\n",
    "    \"TRAFFIC HAZARD\": 0.508,\n",
    "    \"SUBJECT SCREAMING\": 0.536,\n",
    "    \"FOUND SYRINGE\": 0.87,\n",
    "    \"ASSIST PUBLIC\": 0.921,\n",
    "    \"TRANSPORT\":  0.963\n",
    "}\n",
    "\n",
    "welfare_check = 6003  * (1-incidents[\"CHECK WELFARE\"])\n",
    "public_assist = 5788  * (1-incidents[\"ASSIST PUBLIC\"])\n",
    "transport = 1803  * (1-incidents[\"TRANSPORT\"])\n",
    "suicidal_subject = 1571\n",
    "disorderly_subject = 457\n",
    "traffic_hazard = 372  * (1-incidents[\"TRAFFIC HAZARD\"])\n",
    "dispute = 255  * (1-incidents[\"DISPUTE\"])\n",
    "criminal_trespass = 230\n",
    "intoxicated_subject = 219\n",
    "found_syringe = 192  * (1-incidents[\"FOUND SYRINGE\"])\n",
    "\n",
    "# Found from CAD DATA\n",
    "screaming_subject = 12 * (1-incidents[\"SUBJECT SCREAMING\"])\n",
    "\n",
    "# Adjusted for screaming subject\n",
    "other = 1216 - 12\n",
    "\n",
    "# Dispatched total police and cahoots\n",
    "dispatched_total_cfs = 68427\n",
    "\n",
    "adjusted_dispatched_cahoots = [welfare_check, public_assist, transport, suicidal_subject, disorderly_subject, traffic_hazard, dispute, criminal_trespass, intoxicated_subject, found_syringe, screaming_subject, other]"
   ]
  },
  {
   "cell_type": "code",
   "execution_count": 11,
   "metadata": {},
   "outputs": [
    {
     "data": {
      "text/plain": [
       "7997.433000000001"
      ]
     },
     "execution_count": 11,
     "metadata": {},
     "output_type": "execute_result"
    }
   ],
   "source": [
    "pre_adjust_sum = 6003+ 5788+ 1803+ 1571+ 457+ 372+ 255+ 230+ 219+ 192+ 12+ other\n",
    "pre_adjust_sum - sum(adjusted_dispatched_cahoots)\n"
   ]
  },
  {
   "cell_type": "code",
   "execution_count": 13,
   "metadata": {},
   "outputs": [
    {
     "data": {
      "text/plain": [
       "0.16727849464815792"
      ]
     },
     "execution_count": 13,
     "metadata": {},
     "output_type": "execute_result"
    }
   ],
   "source": [
    "corrected_diversion_rate = sum(adjusted_dispatched_cahoots) / (dispatched_total_cfs - (pre_adjust_sum - sum(adjusted_dispatched_cahoots)))\n",
    "corrected_diversion_rate"
   ]
  },
  {
   "cell_type": "code",
   "execution_count": 14,
   "metadata": {},
   "outputs": [
    {
     "data": {
      "text/plain": [
       "18106.0"
      ]
     },
     "execution_count": 14,
     "metadata": {},
     "output_type": "execute_result"
    }
   ],
   "source": [
    "7997.433000000001 + sum(adjusted_dispatched_cahoots)"
   ]
  },
  {
   "cell_type": "code",
   "execution_count": 15,
   "metadata": {},
   "outputs": [
    {
     "data": {
      "text/plain": [
       "18106"
      ]
     },
     "execution_count": 15,
     "metadata": {},
     "output_type": "execute_result"
    }
   ],
   "source": [
    "pre_adjust_sum"
   ]
  },
  {
   "cell_type": "code",
   "execution_count": 17,
   "metadata": {},
   "outputs": [
    {
     "data": {
      "text/plain": [
       "60429.566999999995"
      ]
     },
     "execution_count": 17,
     "metadata": {},
     "output_type": "execute_result"
    }
   ],
   "source": [
    "dispatched_total_cfs - (pre_adjust_sum - sum(adjusted_dispatched_cahoots))"
   ]
  },
  {
   "cell_type": "code",
   "execution_count": 7,
   "metadata": {},
   "outputs": [
    {
     "data": {
      "text/plain": [
       "0.0920181968794946"
      ]
     },
     "execution_count": 7,
     "metadata": {},
     "output_type": "execute_result"
    }
   ],
   "source": [
    "sum(adjusted_dispatched_cahoots) / 109854"
   ]
  },
  {
   "cell_type": "code",
   "execution_count": 9,
   "metadata": {},
   "outputs": [
    {
     "data": {
      "text/plain": [
       "10108.567"
      ]
     },
     "execution_count": 9,
     "metadata": {},
     "output_type": "execute_result"
    }
   ],
   "source": [
    "sum(adjusted_dispatched_cahoots)"
   ]
  },
  {
   "cell_type": "code",
   "execution_count": 234,
   "metadata": {},
   "outputs": [
    {
     "data": {
      "text/plain": [
       "0.17333399544531655"
      ]
     },
     "execution_count": 234,
     "metadata": {},
     "output_type": "execute_result"
    }
   ],
   "source": [
    "corrected_diversion_rate"
   ]
  },
  {
   "cell_type": "code",
   "execution_count": 230,
   "metadata": {},
   "outputs": [
    {
     "data": {
      "text/plain": [
       "10108.567"
      ]
     },
     "execution_count": 230,
     "metadata": {},
     "output_type": "execute_result"
    }
   ],
   "source": [
    "sum(adjusted_dispatched_cahoots)"
   ]
  },
  {
   "cell_type": "code",
   "execution_count": 231,
   "metadata": {},
   "outputs": [
    {
     "name": "stdout",
     "output_type": "stream",
     "text": [
      "5456.727\n",
      "457.2519999999998\n",
      "66.71100000000006\n",
      "1571\n",
      "457\n",
      "183.024\n",
      "233.32500000000002\n",
      "230\n",
      "219\n",
      "24.96\n",
      "5.568\n",
      "1204\n"
     ]
    }
   ],
   "source": [
    "for i in adjusted_dispatched_cahoots:\n",
    "    print(i)"
   ]
  },
  {
   "cell_type": "markdown",
   "metadata": {},
   "source": [
    "# REMEMBER TO UPDATE 3A CALCULATIONS BY SUBTRACTING THE NEW NUMERATOR"
   ]
  },
  {
   "cell_type": "markdown",
   "metadata": {},
   "source": []
  },
  {
   "cell_type": "markdown",
   "metadata": {},
   "source": [
    "# denom calculations for diversion rates"
   ]
  },
  {
   "cell_type": "code",
   "execution_count": 32,
   "metadata": {},
   "outputs": [
    {
     "data": {
      "text/plain": [
       "14001.96"
      ]
     },
     "execution_count": 32,
     "metadata": {},
     "output_type": "execute_result"
    }
   ],
   "source": [
    "dispatched_cahoots_calls = 18106\n",
    "dispatched_welfare_checks = 5546\n",
    "total_dispatched_calls = 68427\n",
    "\n",
    "other_types = dispatched_cahoots_calls - dispatched_welfare_checks\n",
    "\n",
    "total_removed = other_types + (dispatched_welfare_checks * 0.26)\n",
    "total_removed"
   ]
  },
  {
   "cell_type": "code",
   "execution_count": 34,
   "metadata": {},
   "outputs": [
    {
     "data": {
      "text/plain": [
       "14001.96"
      ]
     },
     "execution_count": 34,
     "metadata": {},
     "output_type": "execute_result"
    }
   ],
   "source": [
    "dispatched_cahoots_calls - (dispatched_welfare_checks * 0.74)"
   ]
  },
  {
   "cell_type": "code",
   "execution_count": 35,
   "metadata": {},
   "outputs": [
    {
     "data": {
      "text/plain": [
       "14002"
      ]
     },
     "execution_count": 35,
     "metadata": {},
     "output_type": "execute_result"
    }
   ],
   "source": [
    "18106 - 4104"
   ]
  },
  {
   "cell_type": "code",
   "execution_count": 37,
   "metadata": {},
   "outputs": [
    {
     "data": {
      "text/plain": [
       "54425.04"
      ]
     },
     "execution_count": 37,
     "metadata": {},
     "output_type": "execute_result"
    }
   ],
   "source": [
    "denom = total_dispatched_calls - total_removed\n",
    "denom"
   ]
  },
  {
   "cell_type": "code",
   "execution_count": 28,
   "metadata": {},
   "outputs": [
    {
     "data": {
      "text/plain": [
       "0.07540720227307136"
      ]
     },
     "execution_count": 28,
     "metadata": {},
     "output_type": "execute_result"
    }
   ],
   "source": [
    "(dispatched_welfare_checks * 0.74)/denom"
   ]
  },
  {
   "cell_type": "code",
   "execution_count": 24,
   "metadata": {},
   "outputs": [
    {
     "data": {
      "text/plain": [
       "13118"
      ]
     },
     "execution_count": 24,
     "metadata": {},
     "output_type": "execute_result"
    }
   ],
   "source": [
    "top_3_dispatched = 5791 + 5546 + 1781\n",
    "top_3_dispatched"
   ]
  },
  {
   "cell_type": "code",
   "execution_count": null,
   "metadata": {},
   "outputs": [],
   "source": []
  },
  {
   "cell_type": "code",
   "execution_count": 25,
   "metadata": {},
   "outputs": [
    {
     "data": {
      "text/plain": [
       "4512"
      ]
     },
     "execution_count": 25,
     "metadata": {},
     "output_type": "execute_result"
    }
   ],
   "source": [
    "# previously divertible table 2\n",
    "18106 - 6003 - 5788 - 1803"
   ]
  },
  {
   "cell_type": "code",
   "execution_count": 29,
   "metadata": {},
   "outputs": [
    {
     "data": {
      "text/plain": [
       "59394.04"
      ]
     },
     "execution_count": 29,
     "metadata": {},
     "output_type": "execute_result"
    }
   ],
   "source": [
    "total_dispatched_calls - 5788 - 1803 - (dispatched_welfare_checks * 0.26)"
   ]
  },
  {
   "cell_type": "code",
   "execution_count": null,
   "metadata": {},
   "outputs": [],
   "source": []
  }
 ],
 "metadata": {
  "kernelspec": {
   "display_name": "base",
   "language": "python",
   "name": "python3"
  },
  "language_info": {
   "codemirror_mode": {
    "name": "ipython",
    "version": 3
   },
   "file_extension": ".py",
   "mimetype": "text/x-python",
   "name": "python",
   "nbconvert_exporter": "python",
   "pygments_lexer": "ipython3",
   "version": "3.11.3"
  }
 },
 "nbformat": 4,
 "nbformat_minor": 2
}
