{
 "cells": [
  {
   "cell_type": "markdown",
   "metadata": {},
   "source": [
    "### Data Cleaning"
   ]
  },
  {
   "cell_type": "code",
   "execution_count": 20,
   "metadata": {},
   "outputs": [],
   "source": [
    "import pandas as pd\n",
    "file_path = r'D:\\dsci\\CAHOOTS\\Data\\call_data_from_CAD.csv'\n",
    "CAD_data = pd.read_csv(file_path)"
   ]
  },
  {
   "cell_type": "code",
   "execution_count": 21,
   "metadata": {},
   "outputs": [],
   "source": [
    "#CAD_data"
   ]
  },
  {
   "cell_type": "code",
   "execution_count": 22,
   "metadata": {},
   "outputs": [],
   "source": [
    "#CAD_data[CAD_data[\"IncidentNumber\"].str.contains(\"21000078\")]"
   ]
  },
  {
   "cell_type": "code",
   "execution_count": 23,
   "metadata": {},
   "outputs": [
    {
     "name": "stdout",
     "output_type": "stream",
     "text": [
      "82\n"
     ]
    }
   ],
   "source": [
    "inconsistent_rows = CAD_data[(CAD_data['Call_First_Dispatched_Time'].notna()) & (CAD_data['Unit_Dispatched_Time'].isna())]\n",
    "\n",
    "# Display the inconsistent rows\n",
    "print(len(inconsistent_rows))"
   ]
  },
  {
   "cell_type": "code",
   "execution_count": 24,
   "metadata": {},
   "outputs": [],
   "source": [
    "# Standardize Cahoots identifiers \n",
    "cahoots_identifiers = r\"1J77\\s*|3J79\\s*|3J78\\s*|3J77\\s*|4J79\\s*|3J81\\s*|3J76\\s*|2J28\\s*|2J29\\s*|CAHOOT\\s*|CAHOT\\s*|CAHO\\s*\"\n",
    "\n",
    "CAD_data[\"PrimaryUnitCallSign\"] = CAD_data[\"PrimaryUnitCallSign\"].replace(cahoots_identifiers, 'CAHOOT', regex=True)\n",
    "CAD_data[\"RespondingUnitCallSign\"] = CAD_data[\"RespondingUnitCallSign\"].replace(cahoots_identifiers, 'CAHOOT', regex=True)\n",
    "\n",
    "# Create an identifier for Cahoots involvement \n",
    "CAD_data['Cahoots_related'] = ((CAD_data['PrimaryUnitCallSign'] == 'CAHOOT') | (CAD_data['RespondingUnitCallSign'] == 'CAHOOT')).astype(int)\n",
    "\n",
    "# Convert dt\n",
    "CAD_data[\"Call_Created_Time\"] = pd.to_datetime(CAD_data['Call_Created_Time'], errors='coerce')\n",
    "CAD_data[\"year\"] = CAD_data[\"Call_Created_Time\"].dt.year\n",
    "\n",
    "# Drop unneeded cols\n",
    "#data_cleaned = CAD_data.drop(columns=['Unnamed: 0', 'Beat', 'Call_Zipcode', 'Unit_Cleared_Time', 'Call_Cleared'])\n",
    "CAD_data = CAD_data.drop(columns=['Unnamed: 0', 'IsPrimary'])\n",
    "\n",
    "# Only include calls in Eugene \n",
    "zip_codes = [97402.0, 97401.0, 97405.0, 97404.0, 97403.0, 97408.0]\n",
    "CAD_data = CAD_data[CAD_data['Call_Zipcode'].isin(zip_codes)]\n",
    "\n",
    "# Drop calls with no associated unit\n",
    "CAD_data = CAD_data.dropna(subset=[\"PrimaryUnitCallSign\", \"RespondingUnitCallSign\"], how='all')\n",
    "CAD_data = CAD_data.sort_values(by=\"Call_Created_Time\")\n",
    "\n",
    "# Drop Exact Duplicates\n",
    "CAD_data = CAD_data.drop_duplicates()\n",
    "\n",
    "# Drop non public calls\n",
    "CAD_data = CAD_data[CAD_data[\"Call_Source\"] != \"SELF\"]\n",
    "CAD_data = CAD_data[CAD_data[\"Call_Source\"] != \"RPTO\"]\n",
    "\n",
    "\n",
    "#CAD_data"
   ]
  },
  {
   "cell_type": "code",
   "execution_count": 25,
   "metadata": {},
   "outputs": [],
   "source": [
    "cahoots_data = CAD_data[CAD_data[\"Cahoots_related\"] == 1]\n",
    "#cahoots_data"
   ]
  },
  {
   "cell_type": "code",
   "execution_count": 26,
   "metadata": {},
   "outputs": [],
   "source": [
    "def filter_df_by_time(df, start_time=None, end_time=None, time_column='Call_Created_Time'):\n",
    "    \"\"\"\n",
    "    Filters the dataframe based on the time range specified by the user\n",
    "\n",
    "    Parameters:\n",
    "    df to filter\n",
    "    start_time (str)\n",
    "    end_time (str)\n",
    "    time_column (str): The name of the column containing datetime values\n",
    "\n",
    "    \"\"\"\n",
    "    df.loc[:, time_column] = pd.to_datetime(df[time_column])\n",
    "\n",
    "    if start_time:\n",
    "        if len(start_time) == 4:  # if only a year is given\n",
    "            start_time = pd.to_datetime(f\"{start_time}-01-01\")\n",
    "    else:\n",
    "        start_time = df[time_column].min() \n",
    "\n",
    "    if end_time:\n",
    "        if len(end_time) == 4:  \n",
    "            end_time = pd.to_datetime(f\"{end_time}-12-31 23:59:59\")\n",
    "    else:\n",
    "        end_time = df[time_column].max()  \n",
    "\n",
    "    filtered_df = df[(df[time_column] >= start_time) & (df[time_column] <= end_time)]\n",
    "\n",
    "    return filtered_df\n",
    "\n",
    "#filter_df_by_time(cahoots_data, '2021', '2021')"
   ]
  },
  {
   "cell_type": "code",
   "execution_count": 27,
   "metadata": {},
   "outputs": [],
   "source": [
    "def dataset_builder(data, dispatched=False, arrived=False, cahoots_only=0, time=None):\n",
    "    \"\"\"\n",
    "    Parameters:\n",
    "    time (list of strings) [start time, end time, time_col]\n",
    "    \n",
    "    \"\"\"\n",
    "    # Apply time range if specified\n",
    "    if time:\n",
    "        data = filter_df_by_time(data, time[0], time[1], time[2])\n",
    "    \n",
    "    # Dispatched filter is based on \"Unit_Dispatched_Time\"\n",
    "    if dispatched:\n",
    "        data = data[data[\"Unit_Dispatched_Time\"].notna()]\n",
    "    \n",
    "    # Arrived filter is based on \"Call_First_Dispatched_Time\"\n",
    "    if arrived:\n",
    "        data = data[data[\"Unit_OnScene_Time\"].notna()]\n",
    "        \n",
    "    return data\n",
    "\n",
    "\n",
    "#dataset_builder(CAD_data, dispatched=False, arrived=False, time=['2021', '2021', 'Call_Created_Time'])"
   ]
  },
  {
   "cell_type": "code",
   "execution_count": 28,
   "metadata": {},
   "outputs": [],
   "source": [
    "pd.set_option('display.max_rows', 300)\n",
    "testdf = dataset_builder(CAD_data, dispatched=True, arrived=True, time=['2021', '2021', 'Call_Created_Time'])\n",
    "\n",
    "#testdf"
   ]
  },
  {
   "cell_type": "code",
   "execution_count": 29,
   "metadata": {},
   "outputs": [],
   "source": [
    "#testdf[(testdf[\"Cahoots_related\"] == 1) & (testdf[\"year\"] == 2021)][\"InitialIncidentTypeDescription\"].value_counts()"
   ]
  },
  {
   "cell_type": "code",
   "execution_count": 30,
   "metadata": {},
   "outputs": [],
   "source": [
    "#testdf[\"PrimaryUnitCallSign\"].value_counts().head(200)"
   ]
  },
  {
   "cell_type": "code",
   "execution_count": 31,
   "metadata": {},
   "outputs": [],
   "source": [
    "#testdf[\"InitialIncidentTypeDescription\"].value_counts()"
   ]
  },
  {
   "cell_type": "code",
   "execution_count": 32,
   "metadata": {},
   "outputs": [],
   "source": [
    "#testdf[testdf[\"InitialIncidentTypeDescription\"] == \"PURSUIT\"] "
   ]
  },
  {
   "cell_type": "code",
   "execution_count": 33,
   "metadata": {},
   "outputs": [],
   "source": [
    "#testdf[testdf[\"InitialIncidentTypeDescription\"] == \"DISPUTE\"].head(50)"
   ]
  },
  {
   "cell_type": "code",
   "execution_count": 34,
   "metadata": {},
   "outputs": [],
   "source": [
    "#testdf[testdf[\"IncidentNumber\"].str.contains(\"21001223\")]"
   ]
  },
  {
   "cell_type": "code",
   "execution_count": 35,
   "metadata": {},
   "outputs": [],
   "source": [
    "#testdf[testdf[\"InitialIncidentTypeDescription\"] == \"DISPUTE\"][\"Cahoots_related\"].value_counts()"
   ]
  },
  {
   "cell_type": "code",
   "execution_count": 36,
   "metadata": {},
   "outputs": [
    {
     "data": {
      "text/plain": [
       "262799"
      ]
     },
     "execution_count": 36,
     "metadata": {},
     "output_type": "execute_result"
    }
   ],
   "source": [
    "\n",
    "testdf = CAD_data[~CAD_data[\"IncidentNumber\"].duplicated(keep=False)]\n",
    "len(testdf)"
   ]
  },
  {
   "cell_type": "code",
   "execution_count": 37,
   "metadata": {},
   "outputs": [],
   "source": [
    "#testdf[testdf[\"year\"]==2021]"
   ]
  },
  {
   "cell_type": "code",
   "execution_count": 38,
   "metadata": {},
   "outputs": [],
   "source": [
    "#CAD_data[CAD_data[\"year\"] == 2021]"
   ]
  },
  {
   "cell_type": "markdown",
   "metadata": {},
   "source": [
    "pd.set_option('display.max_rows', None)\n",
    "testdf[\"PrimaryUnitCallSign\"].value_counts()"
   ]
  },
  {
   "cell_type": "markdown",
   "metadata": {},
   "source": [
    "#testdf[testdf[\"Disposition\"] == \"FOLLOW UP INVESTIGATION\"]\n",
    "\n",
    "testdf[testdf[\"Disposition\"] == \"K893 DEPLOYED\"]"
   ]
  }
 ],
 "metadata": {
  "kernelspec": {
   "display_name": "base",
   "language": "python",
   "name": "python3"
  },
  "language_info": {
   "codemirror_mode": {
    "name": "ipython",
    "version": 3
   },
   "file_extension": ".py",
   "mimetype": "text/x-python",
   "name": "python",
   "nbconvert_exporter": "python",
   "pygments_lexer": "ipython3",
   "version": "3.11.3"
  }
 },
 "nbformat": 4,
 "nbformat_minor": 2
}
