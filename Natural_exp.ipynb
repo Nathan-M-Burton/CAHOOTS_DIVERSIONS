{
 "cells": [
  {
   "cell_type": "markdown",
   "metadata": {},
   "source": [
    "## **Natural Experiment**"
   ]
  },
  {
   "cell_type": "code",
   "execution_count": 16,
   "metadata": {},
   "outputs": [],
   "source": [
    "# Import data\n",
    "import pandas as pd\n",
    "file_path = r'D:\\dsci\\CAHOOTS\\Data\\call_data_from_CAD.csv'\n",
    "CAD_data = pd.read_csv(file_path)"
   ]
  },
  {
   "cell_type": "code",
   "execution_count": 17,
   "metadata": {},
   "outputs": [],
   "source": [
    "# Standardize Cahoots identifiers \n",
    "cahoots_identifiers = r\"1J77\\s*|3J79\\s*|3J78\\s*|3J77\\s*|4J79\\s*|3J81\\s*|3J76\\s*|2J28\\s*|2J29\\s*|CAHOOT\\s*|CAHOT\\s*|CAHO\\s*\"\n",
    "CAD_data[\"PrimaryUnitCallSign\"] = CAD_data[\"PrimaryUnitCallSign\"].replace(cahoots_identifiers, 'CAHOOT', regex=True)\n",
    "CAD_data[\"RespondingUnitCallSign\"] = CAD_data[\"RespondingUnitCallSign\"].replace(cahoots_identifiers, 'CAHOOT', regex=True)\n",
    "\n",
    "# Create an identifier for Cahoots involvement \n",
    "CAD_data['Cahoots_related'] = ((CAD_data['PrimaryUnitCallSign'] == 'CAHOOT') | (CAD_data['RespondingUnitCallSign'] == 'CAHOOT')).astype(int)\n",
    "\n",
    "# Convert dt\n",
    "CAD_data[\"Call_Created_Time\"] = pd.to_datetime(CAD_data['Call_Created_Time'], errors='coerce')\n",
    "CAD_data[\"Call_First_Dispatched_Time\"] = pd.to_datetime(CAD_data['Call_First_Dispatched_Time'], errors='coerce')\n",
    "CAD_data[\"Unit_OnScene_Time\"] = pd.to_datetime(CAD_data['Unit_OnScene_Time'], errors='coerce')\n",
    "\n",
    "CAD_data[\"year\"] = CAD_data[\"Call_Created_Time\"].dt.year\n",
    "\n",
    "# Drop unneeded cols\n",
    "CAD_data = CAD_data.drop(columns=['Unnamed: 0', 'Beat', 'Unit_Cleared_Time'])"
   ]
  },
  {
   "cell_type": "code",
   "execution_count": 18,
   "metadata": {},
   "outputs": [],
   "source": [
    "# Drop non-public CFS\n",
    "CAD_data = CAD_data[CAD_data[\"Call_Source\"] != \"SELF\"]\n",
    "CAD_data = CAD_data[CAD_data[\"Call_Source\"] != \"RPTO\"]\n",
    "\n",
    "# Drop duplicates and NA\n",
    "CAD_data = CAD_data.drop_duplicates()\n",
    "CAD_data = CAD_data.dropna(subset=[\"PrimaryUnitCallSign\", \"RespondingUnitCallSign\"], how='all')\n",
    "\n",
    "# Only include calls in Eugene \n",
    "zip_codes = [97402.0, 97401.0, 97405.0, 97404.0, 97403.0, 97408.0]\n",
    "CAD_data = CAD_data[CAD_data['Call_Zipcode'].isin(zip_codes)]\n",
    "\n",
    "# Remove 2022 and 2023 until data errors can be fixed\n",
    "CAD_data = CAD_data[~CAD_data[\"year\"].isin([2022, 2023])]"
   ]
  },
  {
   "cell_type": "code",
   "execution_count": 19,
   "metadata": {},
   "outputs": [],
   "source": [
    "def filter_df_by_time(df, start_time=None, end_time=None, time_column='Call_Created_Time'):\n",
    "    \"\"\"\n",
    "    Filters the dataframe based on the time range specified by the user\n",
    "\n",
    "    Parameters:\n",
    "    df to filter\n",
    "    start_time (str)\n",
    "    end_time (str)\n",
    "    time_column (str): The name of the column containing datetime values\n",
    "\n",
    "    \"\"\"\n",
    "    df.loc[:, time_column] = pd.to_datetime(df[time_column])\n",
    "\n",
    "    if start_time:\n",
    "        if len(start_time) == 4:  # if only a year is given\n",
    "            start_time = pd.to_datetime(f\"{start_time}-01-01\")\n",
    "    else:\n",
    "        start_time = df[time_column].min() \n",
    "\n",
    "    if end_time:\n",
    "        if len(end_time) == 4:  \n",
    "            end_time = pd.to_datetime(f\"{end_time}-12-31 23:59:59\")\n",
    "    else:\n",
    "        end_time = df[time_column].max()  \n",
    "\n",
    "    filtered_df = df[(df[time_column] >= start_time) & (df[time_column] <= end_time)]\n",
    "\n",
    "    return filtered_df"
   ]
  },
  {
   "cell_type": "code",
   "execution_count": 20,
   "metadata": {},
   "outputs": [],
   "source": [
    "def dataset_builder(data, dispatched=False, arrived=False, solo_cahoots=False, time=None):\n",
    "    \"\"\"\n",
    "    Parameters:\n",
    "    time (list of strings) [start time, end time, time_col]\n",
    "    \n",
    "    \"\"\"\n",
    "    # Apply time range if specified\n",
    "    if time:\n",
    "        data = filter_df_by_time(data, time[0], time[1], time[2])\n",
    "    \n",
    "    # Dispatched filter is based on \"Unit_Dispatched_Time\"\n",
    "    if dispatched:\n",
    "        data = data[data[\"Unit_Dispatched_Time\"].notna()]\n",
    "    \n",
    "    # Arrived filter is based on \"Call_First_Dispatched_Time\"\n",
    "    if arrived:\n",
    "        data = data[data[\"Unit_OnScene_Time\"].notna()]\n",
    "        data = data[data[\"Unit_Dispatched_Time\"].notna()]\n",
    "        \n",
    "    # Only Include CAHOOTS calls where no other agencies are involved\n",
    "    if solo_cahoots:\n",
    "        data = data[~((data['PrimaryUnitCallSign'] == 'CAHOOTS') & (data['IsPrimary'] == 0))]\n",
    "        \n",
    "    return data\n"
   ]
  },
  {
   "cell_type": "code",
   "execution_count": 21,
   "metadata": {},
   "outputs": [],
   "source": [
    "CAD_2016 = dataset_builder(CAD_data, dispatched=False, arrived=False, time=['2016', '2016', 'Call_Created_Time'])\n",
    "CAD_2017 = dataset_builder(CAD_data, dispatched=False, arrived=False, time=['2017', '2017', 'Call_Created_Time'])"
   ]
  },
  {
   "cell_type": "code",
   "execution_count": 26,
   "metadata": {},
   "outputs": [],
   "source": [
    "CAD_2016_nat = CAD_2016[(CAD_2016[\"Unit_OnScene_Time\"].dt.hour >= 5) & (CAD_2016[\"Unit_OnScene_Time\"].dt.hour <= 10)]\n",
    "CAD_2017_nat = CAD_2017[(CAD_2017[\"Unit_OnScene_Time\"].dt.hour >= 5) & (CAD_2017[\"Unit_OnScene_Time\"].dt.hour <= 10)]"
   ]
  },
  {
   "cell_type": "code",
   "execution_count": 28,
   "metadata": {},
   "outputs": [
    {
     "data": {
      "text/plain": [
       "InitialIncidentTypeDescription\n",
       "CRIMINAL TRESPASS                 1448\n",
       "DISPUTE                           1287\n",
       "CHECK WELFARE                     1270\n",
       "DISORDERLY SUBJECT                 929\n",
       "BURGLARY                           534\n",
       "SUSPICIOUS CONDITIONS              529\n",
       "ILLEGAL CAMPING                    382\n",
       "SUSPICIOUS SUBJECT                 371\n",
       "MOTOR VEH ACC UNKNOWN INJ          311\n",
       "SUICIDAL SUBJECT                   289\n",
       "UNAUTHORIZED USE OF VEHICLE        265\n",
       "TRAFFIC HAZARD                     213\n",
       "THEFT                              212\n",
       "ASSAULT                            200\n",
       "HARASSMENT                         129\n",
       "ASSIST PUBLIC- POLICE              124\n",
       "DOG AT LARGE                       105\n",
       "WARRANT SERVICE                    104\n",
       "LOCATION WANTED SUBJECT             97\n",
       "INCOMPLETE CALL                     93\n",
       "ALARM PANIC                         89\n",
       "CARDIAC ARREST                      88\n",
       "UNKNOWN PROBLEM                     85\n",
       "MOTOR VEH ACC NO INJURY             85\n",
       "TRANSPORT                           83\n",
       "SUSPICIOUS VEHICLE                  80\n",
       "ASSIST OUTSIDE AGENCY               77\n",
       "BEAT INFORMATION                    76\n",
       "CRIMINAL MISCHIEF                   75\n",
       "OVERDOSE                            70\n",
       "VIOLATION OF RESTRAINING ORDER      68\n",
       "OPEN DOOR                           67\n",
       "FOUND ANIMAL                        61\n",
       "ASSIST FIRE DEPARTMENT              61\n",
       "SHOTS FIRED                         59\n",
       "MENACING                            56\n",
       "MOTOR VEH ACC INJURY                54\n",
       "LOUD NOISE                          54\n",
       "PROWLER                             54\n",
       "AUDIBLE ALARM                       51\n",
       "Name: count, dtype: int64"
      ]
     },
     "execution_count": 28,
     "metadata": {},
     "output_type": "execute_result"
    }
   ],
   "source": [
    "CAD_2016_nat[\"InitialIncidentTypeDescription\"].value_counts().head(40)"
   ]
  },
  {
   "cell_type": "code",
   "execution_count": 29,
   "metadata": {},
   "outputs": [
    {
     "data": {
      "text/plain": [
       "InitialIncidentTypeDescription\n",
       "DISPUTE                        1528\n",
       "CHECK WELFARE                  1508\n",
       "CRIMINAL TRESPASS              1334\n",
       "DISORDERLY SUBJECT              871\n",
       "ASSIST PUBLIC- POLICE           710\n",
       "TRANSPORT                       655\n",
       "BURGLARY                        596\n",
       "SUSPICIOUS CONDITIONS           511\n",
       "ILLEGAL CAMPING                 435\n",
       "SUSPICIOUS SUBJECT              397\n",
       "SUICIDAL SUBJECT                374\n",
       "MOTOR VEH ACC UNKNOWN INJ       318\n",
       "TRAFFIC HAZARD                  303\n",
       "UNAUTHORIZED USE OF VEHICLE     243\n",
       "THEFT                           217\n",
       "ASSAULT                         155\n",
       "ROBBERY                         143\n",
       "HARASSMENT                      135\n",
       "LOCATION WANTED SUBJECT         123\n",
       "CARDIAC ARREST                  109\n",
       "Name: count, dtype: int64"
      ]
     },
     "execution_count": 29,
     "metadata": {},
     "output_type": "execute_result"
    }
   ],
   "source": [
    "CAD_2017_nat[\"InitialIncidentTypeDescription\"].value_counts().head(20)"
   ]
  },
  {
   "cell_type": "code",
   "execution_count": null,
   "metadata": {},
   "outputs": [],
   "source": []
  }
 ],
 "metadata": {
  "kernelspec": {
   "display_name": "base",
   "language": "python",
   "name": "python3"
  },
  "language_info": {
   "codemirror_mode": {
    "name": "ipython",
    "version": 3
   },
   "file_extension": ".py",
   "mimetype": "text/x-python",
   "name": "python",
   "nbconvert_exporter": "python",
   "pygments_lexer": "ipython3",
   "version": "3.11.3"
  }
 },
 "nbformat": 4,
 "nbformat_minor": 2
}
